{
 "cells": [
  {
   "cell_type": "code",
   "execution_count": 1,
   "id": "151fd077-e66e-44d3-8ae6-58c1cc686184",
   "metadata": {},
   "outputs": [],
   "source": [
    "import csv\n",
    "import pandas as pd \n",
    "rest = pd.read_csv(\"Restaurantsinfo2.csv\", index_col=0)"
   ]
  },
  {
   "cell_type": "code",
   "execution_count": 2,
   "id": "4e79f5c0",
   "metadata": {},
   "outputs": [],
   "source": [
    "rest.reset_index(inplace=True)"
   ]
  },
  {
   "cell_type": "code",
   "execution_count": 3,
   "id": "317a7015",
   "metadata": {},
   "outputs": [],
   "source": [
    "for index, row in rest.iterrows():\n",
    "    curr =row['Cuisines']\n",
    "    i = \"\"\n",
    "    for j in curr:\n",
    "        if j!=',':\n",
    "            i +=j\n",
    "    row['Cuisines']=i\n",
    "    "
   ]
  },
  {
   "cell_type": "code",
   "execution_count": 4,
   "id": "7c0f9e9b",
   "metadata": {
    "scrolled": true
   },
   "outputs": [],
   "source": [
    "rest.fillna('', inplace=True)\n",
    "#rest['Cuisines'] = rest['Cuisines'].apply(lambda x:x.split())\n",
    "#rest['Collections'] = rest['Collections'].apply(lambda x:x.split())\n",
    "rest['Collections'] = rest['Collections'].apply(lambda x: \" \".join(x))\n",
    "for index, row in rest.iterrows():\n",
    "    curr =row['Collections']\n",
    "    i = \"\"\n",
    "    f = 0\n",
    "    for j in curr:\n",
    "        if j==',':\n",
    "            f = j\n",
    "            continue\n",
    "        if j==' ':\n",
    "            if f!=',':\n",
    "                f = j\n",
    "                continue\n",
    "        i +=j\n",
    "        f = j\n",
    "    row['Collections']=i\n",
    "rest['tags'] =  rest['Collections']+ \" \"+  rest['Cuisines']+ \" \" +rest['Cost']\n",
    "#new['tags'] = new['tags'].apply(lambda x: \" \".join(x))\n",
    "new = rest[['Name','tags']]\n",
    "new.reset_index(inplace=True)"
   ]
  },
  {
   "cell_type": "code",
   "execution_count": 14,
   "id": "d8f2f39a-5489-457c-8af3-108e3e2bb38b",
   "metadata": {},
   "outputs": [
    {
     "data": {
      "text/plain": [
       "{'American',\n",
       " 'Andhra',\n",
       " 'Arabian',\n",
       " 'Asian',\n",
       " 'BBQ',\n",
       " 'Bakery',\n",
       " 'Barbecue&Grill',\n",
       " 'BestBakeries',\n",
       " 'BestBars&Pubs',\n",
       " 'BestMilkshakes',\n",
       " 'Bestshawarmas',\n",
       " 'Beverages',\n",
       " 'Biryani',\n",
       " 'BrilliantBiryanis',\n",
       " 'Burger',\n",
       " 'Cafe',\n",
       " 'Cheap',\n",
       " 'Chinese',\n",
       " 'Continental',\n",
       " 'CorporateFavorites',\n",
       " 'Cream',\n",
       " 'Desserts',\n",
       " 'Eastern',\n",
       " 'European',\n",
       " 'Expensive',\n",
       " 'FancyandFun',\n",
       " 'Fast',\n",
       " 'Finger',\n",
       " 'Food',\n",
       " 'FoodHygieneRatedRestaurantsinHyderabad',\n",
       " 'FrozenDelights',\n",
       " 'FunctionVenues',\n",
       " 'GigsandEvents',\n",
       " 'Goan',\n",
       " 'GoldCurated',\n",
       " 'GreatBreakfasts',\n",
       " 'GreatBuffets',\n",
       " 'GreatItalian',\n",
       " 'Haleem',\n",
       " 'HappyHours',\n",
       " 'Healthy',\n",
       " \"Hyderabad'sHottest\",\n",
       " 'Hyderabadi',\n",
       " 'Ice',\n",
       " 'Indian',\n",
       " 'Indonesian',\n",
       " 'Italian',\n",
       " 'Japanese',\n",
       " 'Juices',\n",
       " 'Kebab',\n",
       " 'LateNightRestaurants',\n",
       " 'Lebanese',\n",
       " 'LiveSportsScreenings',\n",
       " 'Malaysian',\n",
       " 'Mandi',\n",
       " 'Mediterranean',\n",
       " 'Mexican',\n",
       " 'Mithai',\n",
       " 'Moderate',\n",
       " 'Modern',\n",
       " 'Momos',\n",
       " 'Mughlai',\n",
       " 'NewonGold',\n",
       " 'North',\n",
       " 'Pan-AsianDelicacies',\n",
       " 'Pizza',\n",
       " 'PocketFriendly',\n",
       " 'RamzanMubarak',\n",
       " 'RegionalFavorites',\n",
       " 'Rooftops',\n",
       " 'Salad',\n",
       " 'Seafood',\n",
       " 'SneakPeekHyderabad',\n",
       " 'South',\n",
       " 'Spanish',\n",
       " 'Street',\n",
       " 'StreetFood',\n",
       " 'SundayBrunches',\n",
       " 'Sushi',\n",
       " 'TerrificThalis',\n",
       " 'Thai',\n",
       " 'The‘MustVisit’Eateries',\n",
       " 'Top-Rated',\n",
       " 'TopDrinkingDestinations',\n",
       " 'TrendingThisWeek',\n",
       " 'VeggieFriendly',\n",
       " 'Wraps',\n",
       " 'رخيص'}"
      ]
     },
     "execution_count": 14,
     "metadata": {},
     "output_type": "execute_result"
    }
   ],
   "source": [
    "s = set()\n",
    "for index, row in rest.iterrows():\n",
    "    l=row['tags'].split()\n",
    "    s.update(set(l))\n",
    "s\n"
   ]
  },
  {
   "cell_type": "code",
   "execution_count": 12,
   "id": "b6c8b766-7aa8-4071-a1aa-f88a9926b22a",
   "metadata": {},
   "outputs": [],
   "source": [
    "from sklearn.feature_extraction.text  import CountVectorizer\n",
    "cv = CountVectorizer(max_features=5000, stop_words='english')\n",
    "vector = cv.fit_transform(new['tags']).toarray()"
   ]
  },
  {
   "cell_type": "code",
   "execution_count": 7,
   "id": "b693ec63",
   "metadata": {},
   "outputs": [],
   "source": [
    "from sklearn.metrics.pairwise import cosine_similarity"
   ]
  },
  {
   "cell_type": "code",
   "execution_count": 8,
   "id": "8e5fb91b",
   "metadata": {},
   "outputs": [],
   "source": [
    "def recommend(movie):\n",
    "    query = cv.transform([movie])\n",
    "    simi =cosine_similarity(vector, query)\n",
    "    distances = sorted(list(enumerate(simi)),reverse=True,key = lambda x: x[1])\n",
    "    for i in distances[0:10]:\n",
    "        print(new.iloc[i[0]].Name)"
   ]
  },
  {
   "cell_type": "code",
   "execution_count": 16,
   "id": "f22e9b7d",
   "metadata": {
    "scrolled": true
   },
   "outputs": [
    {
     "name": "stdout",
     "output_type": "stream",
     "text": [
      "Behrouz Biryani\n",
      "Squeeze @ The Lime\n",
      "Mohammedia Shawarma\n",
      "IndiBlaze\n",
      "Green Bawarchi Restaurant\n",
      "Biryanis And More\n",
      "Faasos\n",
      "Owm Nom Nom\n",
      "Aromas@11SIX\n",
      "Olive Garden\n"
     ]
    }
   ],
   "source": [
    "recommend(\"Arabian Biryani Salad Cheap VeggieFriendly\")"
   ]
  },
  {
   "cell_type": "code",
   "execution_count": null,
   "id": "edf79809",
   "metadata": {},
   "outputs": [],
   "source": []
  },
  {
   "cell_type": "code",
   "execution_count": null,
   "id": "19ee2fe9",
   "metadata": {},
   "outputs": [],
   "source": []
  }
 ],
 "metadata": {
  "kernelspec": {
   "display_name": "Python 3 (ipykernel)",
   "language": "python",
   "name": "python3"
  },
  "language_info": {
   "codemirror_mode": {
    "name": "ipython",
    "version": 3
   },
   "file_extension": ".py",
   "mimetype": "text/x-python",
   "name": "python",
   "nbconvert_exporter": "python",
   "pygments_lexer": "ipython3",
   "version": "3.9.5"
  }
 },
 "nbformat": 4,
 "nbformat_minor": 5
}
